{
  "nbformat": 4,
  "nbformat_minor": 0,
  "metadata": {
    "colab": {
      "provenance": []
    },
    "kernelspec": {
      "name": "python3",
      "display_name": "Python 3"
    },
    "language_info": {
      "name": "python"
    }
  },
  "cells": [
    {
      "cell_type": "code",
      "execution_count": 11,
      "metadata": {
        "colab": {
          "base_uri": "https://localhost:8080/"
        },
        "id": "ZJPZsXGozfry",
        "outputId": "458e2d0e-4422-40e2-dda3-f504d5de1ee7"
      },
      "outputs": [
        {
          "output_type": "stream",
          "name": "stdout",
          "text": [
            "Masukkan angka pertama: 90\n",
            "Pilih operasi:\n",
            "Penjumlahan (+)\n",
            "Pengurangan (-)\n",
            "Perkalian (*)\n",
            "Pembagian (/)\n",
            "Masukkan pilihan (+/-/*//): /\n",
            "Masukkan angka kedua: 30\n",
            "Hasil: 3.0\n"
          ]
        }
      ],
      "source": [
        "# Fungsi higher-order untuk operasi matematika\n",
        "def calculate(num1, num2, operation):\n",
        "    return operation(num1, num2)\n",
        "\n",
        "# Fungsi operasi matematika\n",
        "def add(a, b):\n",
        "    return a + b\n",
        "\n",
        "def subtract(a, b):\n",
        "    return a - b\n",
        "\n",
        "def multiply(a, b):\n",
        "    return a * b\n",
        "\n",
        "def divide(a, b):\n",
        "    if b == 0:\n",
        "        return \"Error: Division by zero\"\n",
        "    return a / b\n",
        "\n",
        "# Meminta pengguna memasukkan angka pertama\n",
        "num1 = float(input(\"Masukkan angka pertama: \"))\n",
        "\n",
        "# Menampilkan pilihan operasi kepada pengguna\n",
        "print(\"Pilih operasi:\")\n",
        "print(\"Penjumlahan (+)\")\n",
        "print(\"Pengurangan (-)\")\n",
        "print(\"Perkalian (*)\")\n",
        "print(\"Pembagian (/)\")\n",
        "\n",
        "# Meminta pengguna memilih operasi\n",
        "choice = input(\"Masukkan pilihan (+/-/*//): \")\n",
        "\n",
        "# Meminta pengguna memasukkan angka kedua\n",
        "num2 = float(input(\"Masukkan angka kedua: \"))\n",
        "\n",
        "# Melakukan operasi matematika sesuai pilihan pengguna\n",
        "if choice == '+':\n",
        "    result = calculate(num1, num2, add)\n",
        "elif choice == '-':\n",
        "    result = calculate(num1, num2, subtract)\n",
        "elif choice == '*':\n",
        "    result = calculate(num1, num2, multiply)\n",
        "elif choice == '/':\n",
        "    result = calculate(num1, num2, divide)\n",
        "else:\n",
        "    result = \"Pilihan tidak valid\"\n",
        "\n",
        "# Menampilkan hasil operasi matematika\n",
        "print(\"Hasil:\", result)"
      ]
    }
  ]
}